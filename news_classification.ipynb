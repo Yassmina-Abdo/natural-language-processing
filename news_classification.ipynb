{
  "cells": [
    {
      "cell_type": "markdown",
      "metadata": {
        "id": "view-in-github",
        "colab_type": "text"
      },
      "source": [
        "<a href=\"https://colab.research.google.com/github/Yassmina-Abdo/natural-language-processing/blob/main/news_classification.ipynb\" target=\"_parent\"><img src=\"https://colab.research.google.com/assets/colab-badge.svg\" alt=\"Open In Colab\"/></a>"
      ]
    },
    {
      "cell_type": "markdown",
      "metadata": {
        "id": "eduI1Kbxyjyq"
      },
      "source": [
        "### Objective:\n",
        "- The objective from this task is to use your NLP skills to build a ML model can <b>classify the news categories</b>.\n",
        "- Try hard to get the maximum value of the preferable evaluation metric using any technique.\n",
        "- <b>Concat headlines and short descriptions</b> and use them in classification. "
      ]
    },
    {
      "cell_type": "markdown",
      "metadata": {
        "id": "eUiqMpPqyjyu"
      },
      "source": [
        "### Time:\n",
        "- This task mustn't take more than <b>3 hours</b>.\n",
        "    - Load Data and EDA : 30 minutes\n",
        "    - Cleaning and Preprocessing : 60 Minutes\n",
        "    - Modelling and Enhancement : 60 Minutes\n",
        "    - Extratime : 30 minutes"
      ]
    },
    {
      "cell_type": "markdown",
      "source": [
        "### Fixed Rules:\n",
        "- train test split 80% : 20%\n",
        "- all random seeds = 42"
      ],
      "metadata": {
        "id": "DilHGxwO426N"
      }
    },
    {
      "cell_type": "markdown",
      "source": [
        "# Delivery:\n",
        "## Through this [form](https://forms.gle/PshJQw2bTa48Ligz7)"
      ],
      "metadata": {
        "id": "ewUHzJdO3ZSX"
      }
    },
    {
      "cell_type": "markdown",
      "source": [
        "> ### Take a deep breath, read the instructions again, and then start"
      ],
      "metadata": {
        "id": "74XgKj5-5M3I"
      }
    },
    {
      "cell_type": "markdown",
      "source": [
        "## Load Libraries"
      ],
      "metadata": {
        "id": "u-PT_N_B5zlJ"
      }
    },
    {
      "cell_type": "code",
      "source": [
        "!pip install contractions --q"
      ],
      "metadata": {
        "id": "6jW8FKGtrhPz"
      },
      "execution_count": 1,
      "outputs": []
    },
    {
      "cell_type": "code",
      "source": [
        "import numpy as np\n",
        "import pandas as pd\n",
        "import json\n",
        "from sklearn.model_selection import train_test_split\n",
        "from tensorflow.keras.preprocessing.text import Tokenizer\n",
        "import tensorflow as tf\n",
        "from sklearn import metrics\n",
        "import contractions\n",
        "from sklearn.feature_extraction.text import CountVectorizer\n",
        "from sklearn.linear_model import LogisticRegression\n",
        "from sklearn.feature_extraction.text import CountVectorizer,TfidfVectorizer\n",
        "from nltk.tokenize import casual_tokenize, word_tokenize\n",
        "from sklearn.metrics import classification_report\n",
        "from keras.preprocessing.sequence import pad_sequences\n",
        "from tensorflow.keras.layers import *\n",
        "from tensorflow.keras import models,layers\n",
        "from tensorflow.keras import optimizers\n",
        "import re"
      ],
      "metadata": {
        "id": "a7PbDuob3Xqo"
      },
      "execution_count": 51,
      "outputs": []
    },
    {
      "cell_type": "markdown",
      "source": [
        "## Load Dataset"
      ],
      "metadata": {
        "id": "MGy_FvHj52cp"
      }
    },
    {
      "cell_type": "code",
      "source": [
        "data = [json.loads(line) for line in open('Dataset.json', 'r')]"
      ],
      "metadata": {
        "id": "LlCwFrw654CY"
      },
      "execution_count": 3,
      "outputs": []
    },
    {
      "cell_type": "code",
      "source": [
        "# convert to data frame\n",
        "df= pd.DataFrame(data)\n",
        "df.sample(5)"
      ],
      "metadata": {
        "id": "wpr2Gg8B548V",
        "colab": {
          "base_uri": "https://localhost:8080/",
          "height": 389
        },
        "outputId": "187c6718-8372-4415-e00e-b2de92bf9ccd"
      },
      "execution_count": 4,
      "outputs": [
        {
          "output_type": "execute_result",
          "data": {
            "text/plain": [
              "              category                                           headline  \\\n",
              "118911  HEALTHY LIVING  This Total-Body Workout Will Fly By, Thanks To...   \n",
              "9142          POLITICS  The GOP's Tax Bill Kicks Puerto Rico When It's...   \n",
              "167941        WELLNESS                                     Spirit of Help   \n",
              "105912           STYLE    Thanks Rihanna, Now We Want THIS Lipstick Color   \n",
              "70896         POLITICS  Catholic Newspaper Names Same-Sex Marriage Pla...   \n",
              "\n",
              "                                                  authors  \\\n",
              "118911                                  SELF, Contributor   \n",
              "9142                                     Jennifer Bendery   \n",
              "167941  Maggie Lyon, Contributor\\nWriter on wellness a...   \n",
              "105912                                        Dana Oliver   \n",
              "70896                                       Amanda Terkel   \n",
              "\n",
              "                                                     link  \\\n",
              "118911  https://www.huffingtonpost.com/entry/health-an...   \n",
              "9142    https://www.huffingtonpost.com/entry/puerto-ri...   \n",
              "167941  https://www.huffingtonpost.com/entry/self-help...   \n",
              "105912  https://www.huffingtonpost.com/entry/rihanna-l...   \n",
              "70896   https://www.huffingtonpost.com/entry/catholic-...   \n",
              "\n",
              "                                        short_description        date  \n",
              "118911  This fitness routine will make your session fl...  2014-06-28  \n",
              "9142    The island is getting slapped with new taxes a...  2017-12-20  \n",
              "167941  In taking a leavened, eyes-open view of our co...  2013-01-17  \n",
              "105912                                                     2014-11-23  \n",
              "70896                         Last year, it was the pope.  2015-12-28  "
            ],
            "text/html": [
              "\n",
              "  <div id=\"df-df0135ae-efa2-461a-a78e-170d005ece12\">\n",
              "    <div class=\"colab-df-container\">\n",
              "      <div>\n",
              "<style scoped>\n",
              "    .dataframe tbody tr th:only-of-type {\n",
              "        vertical-align: middle;\n",
              "    }\n",
              "\n",
              "    .dataframe tbody tr th {\n",
              "        vertical-align: top;\n",
              "    }\n",
              "\n",
              "    .dataframe thead th {\n",
              "        text-align: right;\n",
              "    }\n",
              "</style>\n",
              "<table border=\"1\" class=\"dataframe\">\n",
              "  <thead>\n",
              "    <tr style=\"text-align: right;\">\n",
              "      <th></th>\n",
              "      <th>category</th>\n",
              "      <th>headline</th>\n",
              "      <th>authors</th>\n",
              "      <th>link</th>\n",
              "      <th>short_description</th>\n",
              "      <th>date</th>\n",
              "    </tr>\n",
              "  </thead>\n",
              "  <tbody>\n",
              "    <tr>\n",
              "      <th>118911</th>\n",
              "      <td>HEALTHY LIVING</td>\n",
              "      <td>This Total-Body Workout Will Fly By, Thanks To...</td>\n",
              "      <td>SELF, Contributor</td>\n",
              "      <td>https://www.huffingtonpost.com/entry/health-an...</td>\n",
              "      <td>This fitness routine will make your session fl...</td>\n",
              "      <td>2014-06-28</td>\n",
              "    </tr>\n",
              "    <tr>\n",
              "      <th>9142</th>\n",
              "      <td>POLITICS</td>\n",
              "      <td>The GOP's Tax Bill Kicks Puerto Rico When It's...</td>\n",
              "      <td>Jennifer Bendery</td>\n",
              "      <td>https://www.huffingtonpost.com/entry/puerto-ri...</td>\n",
              "      <td>The island is getting slapped with new taxes a...</td>\n",
              "      <td>2017-12-20</td>\n",
              "    </tr>\n",
              "    <tr>\n",
              "      <th>167941</th>\n",
              "      <td>WELLNESS</td>\n",
              "      <td>Spirit of Help</td>\n",
              "      <td>Maggie Lyon, Contributor\\nWriter on wellness a...</td>\n",
              "      <td>https://www.huffingtonpost.com/entry/self-help...</td>\n",
              "      <td>In taking a leavened, eyes-open view of our co...</td>\n",
              "      <td>2013-01-17</td>\n",
              "    </tr>\n",
              "    <tr>\n",
              "      <th>105912</th>\n",
              "      <td>STYLE</td>\n",
              "      <td>Thanks Rihanna, Now We Want THIS Lipstick Color</td>\n",
              "      <td>Dana Oliver</td>\n",
              "      <td>https://www.huffingtonpost.com/entry/rihanna-l...</td>\n",
              "      <td></td>\n",
              "      <td>2014-11-23</td>\n",
              "    </tr>\n",
              "    <tr>\n",
              "      <th>70896</th>\n",
              "      <td>POLITICS</td>\n",
              "      <td>Catholic Newspaper Names Same-Sex Marriage Pla...</td>\n",
              "      <td>Amanda Terkel</td>\n",
              "      <td>https://www.huffingtonpost.com/entry/catholic-...</td>\n",
              "      <td>Last year, it was the pope.</td>\n",
              "      <td>2015-12-28</td>\n",
              "    </tr>\n",
              "  </tbody>\n",
              "</table>\n",
              "</div>\n",
              "      <button class=\"colab-df-convert\" onclick=\"convertToInteractive('df-df0135ae-efa2-461a-a78e-170d005ece12')\"\n",
              "              title=\"Convert this dataframe to an interactive table.\"\n",
              "              style=\"display:none;\">\n",
              "        \n",
              "  <svg xmlns=\"http://www.w3.org/2000/svg\" height=\"24px\"viewBox=\"0 0 24 24\"\n",
              "       width=\"24px\">\n",
              "    <path d=\"M0 0h24v24H0V0z\" fill=\"none\"/>\n",
              "    <path d=\"M18.56 5.44l.94 2.06.94-2.06 2.06-.94-2.06-.94-.94-2.06-.94 2.06-2.06.94zm-11 1L8.5 8.5l.94-2.06 2.06-.94-2.06-.94L8.5 2.5l-.94 2.06-2.06.94zm10 10l.94 2.06.94-2.06 2.06-.94-2.06-.94-.94-2.06-.94 2.06-2.06.94z\"/><path d=\"M17.41 7.96l-1.37-1.37c-.4-.4-.92-.59-1.43-.59-.52 0-1.04.2-1.43.59L10.3 9.45l-7.72 7.72c-.78.78-.78 2.05 0 2.83L4 21.41c.39.39.9.59 1.41.59.51 0 1.02-.2 1.41-.59l7.78-7.78 2.81-2.81c.8-.78.8-2.07 0-2.86zM5.41 20L4 18.59l7.72-7.72 1.47 1.35L5.41 20z\"/>\n",
              "  </svg>\n",
              "      </button>\n",
              "      \n",
              "  <style>\n",
              "    .colab-df-container {\n",
              "      display:flex;\n",
              "      flex-wrap:wrap;\n",
              "      gap: 12px;\n",
              "    }\n",
              "\n",
              "    .colab-df-convert {\n",
              "      background-color: #E8F0FE;\n",
              "      border: none;\n",
              "      border-radius: 50%;\n",
              "      cursor: pointer;\n",
              "      display: none;\n",
              "      fill: #1967D2;\n",
              "      height: 32px;\n",
              "      padding: 0 0 0 0;\n",
              "      width: 32px;\n",
              "    }\n",
              "\n",
              "    .colab-df-convert:hover {\n",
              "      background-color: #E2EBFA;\n",
              "      box-shadow: 0px 1px 2px rgba(60, 64, 67, 0.3), 0px 1px 3px 1px rgba(60, 64, 67, 0.15);\n",
              "      fill: #174EA6;\n",
              "    }\n",
              "\n",
              "    [theme=dark] .colab-df-convert {\n",
              "      background-color: #3B4455;\n",
              "      fill: #D2E3FC;\n",
              "    }\n",
              "\n",
              "    [theme=dark] .colab-df-convert:hover {\n",
              "      background-color: #434B5C;\n",
              "      box-shadow: 0px 1px 3px 1px rgba(0, 0, 0, 0.15);\n",
              "      filter: drop-shadow(0px 1px 2px rgba(0, 0, 0, 0.3));\n",
              "      fill: #FFFFFF;\n",
              "    }\n",
              "  </style>\n",
              "\n",
              "      <script>\n",
              "        const buttonEl =\n",
              "          document.querySelector('#df-df0135ae-efa2-461a-a78e-170d005ece12 button.colab-df-convert');\n",
              "        buttonEl.style.display =\n",
              "          google.colab.kernel.accessAllowed ? 'block' : 'none';\n",
              "\n",
              "        async function convertToInteractive(key) {\n",
              "          const element = document.querySelector('#df-df0135ae-efa2-461a-a78e-170d005ece12');\n",
              "          const dataTable =\n",
              "            await google.colab.kernel.invokeFunction('convertToInteractive',\n",
              "                                                     [key], {});\n",
              "          if (!dataTable) return;\n",
              "\n",
              "          const docLinkHtml = 'Like what you see? Visit the ' +\n",
              "            '<a target=\"_blank\" href=https://colab.research.google.com/notebooks/data_table.ipynb>data table notebook</a>'\n",
              "            + ' to learn more about interactive tables.';\n",
              "          element.innerHTML = '';\n",
              "          dataTable['output_type'] = 'display_data';\n",
              "          await google.colab.output.renderOutput(dataTable, element);\n",
              "          const docLink = document.createElement('div');\n",
              "          docLink.innerHTML = docLinkHtml;\n",
              "          element.appendChild(docLink);\n",
              "        }\n",
              "      </script>\n",
              "    </div>\n",
              "  </div>\n",
              "  "
            ]
          },
          "metadata": {},
          "execution_count": 4
        }
      ]
    },
    {
      "cell_type": "markdown",
      "source": [
        "## EDA"
      ],
      "metadata": {
        "id": "qynzn9N355a9"
      }
    },
    {
      "cell_type": "code",
      "source": [
        "#check duplicate\n",
        "print(df.duplicated().sum())"
      ],
      "metadata": {
        "colab": {
          "base_uri": "https://localhost:8080/"
        },
        "id": "3D0mAJPnnhzC",
        "outputId": "e98b0da5-6ffe-4d7d-d89e-1e284e274acd"
      },
      "execution_count": 5,
      "outputs": [
        {
          "output_type": "stream",
          "name": "stdout",
          "text": [
            "13\n"
          ]
        }
      ]
    },
    {
      "cell_type": "code",
      "source": [
        "df=df.drop_duplicates()"
      ],
      "metadata": {
        "id": "95LFSHFbnoS9"
      },
      "execution_count": 6,
      "outputs": []
    },
    {
      "cell_type": "code",
      "source": [
        "df.shape"
      ],
      "metadata": {
        "id": "Qvw_IKKK56YX",
        "colab": {
          "base_uri": "https://localhost:8080/"
        },
        "outputId": "d0a36f23-ef03-402e-8529-6571e3581294"
      },
      "execution_count": 7,
      "outputs": [
        {
          "output_type": "execute_result",
          "data": {
            "text/plain": [
              "(200840, 6)"
            ]
          },
          "metadata": {},
          "execution_count": 7
        }
      ]
    },
    {
      "cell_type": "code",
      "source": [
        "df.info()"
      ],
      "metadata": {
        "id": "jy-vSQvl57Sd",
        "colab": {
          "base_uri": "https://localhost:8080/"
        },
        "outputId": "f2b3533a-cfcf-4444-ad87-0935342c7ebc"
      },
      "execution_count": 8,
      "outputs": [
        {
          "output_type": "stream",
          "name": "stdout",
          "text": [
            "<class 'pandas.core.frame.DataFrame'>\n",
            "Int64Index: 200840 entries, 0 to 200852\n",
            "Data columns (total 6 columns):\n",
            " #   Column             Non-Null Count   Dtype \n",
            "---  ------             --------------   ----- \n",
            " 0   category           200840 non-null  object\n",
            " 1   headline           200840 non-null  object\n",
            " 2   authors            200840 non-null  object\n",
            " 3   link               200840 non-null  object\n",
            " 4   short_description  200840 non-null  object\n",
            " 5   date               200840 non-null  object\n",
            "dtypes: object(6)\n",
            "memory usage: 10.7+ MB\n"
          ]
        }
      ]
    },
    {
      "cell_type": "code",
      "source": [
        "df['category'].value_counts()  #41 class"
      ],
      "metadata": {
        "colab": {
          "base_uri": "https://localhost:8080/"
        },
        "id": "TbeJvEKn4OgP",
        "outputId": "7146e4d1-6816-4d0c-f7e0-ce79fd94a8e9"
      },
      "execution_count": 9,
      "outputs": [
        {
          "output_type": "execute_result",
          "data": {
            "text/plain": [
              "POLITICS          32738\n",
              "WELLNESS          17824\n",
              "ENTERTAINMENT     16058\n",
              "TRAVEL             9887\n",
              "STYLE & BEAUTY     9646\n",
              "PARENTING          8677\n",
              "HEALTHY LIVING     6694\n",
              "QUEER VOICES       6314\n",
              "FOOD & DRINK       6226\n",
              "BUSINESS           5937\n",
              "COMEDY             5175\n",
              "SPORTS             4884\n",
              "BLACK VOICES       4528\n",
              "HOME & LIVING      4195\n",
              "PARENTS            3955\n",
              "THE WORLDPOST      3664\n",
              "WEDDINGS           3651\n",
              "WOMEN              3489\n",
              "IMPACT             3459\n",
              "DIVORCE            3426\n",
              "CRIME              3405\n",
              "MEDIA              2815\n",
              "WEIRD NEWS         2670\n",
              "GREEN              2622\n",
              "WORLDPOST          2579\n",
              "RELIGION           2556\n",
              "STYLE              2254\n",
              "SCIENCE            2178\n",
              "WORLD NEWS         2177\n",
              "TASTE              2096\n",
              "TECH               2078\n",
              "MONEY              1707\n",
              "ARTS               1509\n",
              "FIFTY              1401\n",
              "GOOD NEWS          1398\n",
              "ARTS & CULTURE     1339\n",
              "ENVIRONMENT        1322\n",
              "COLLEGE            1144\n",
              "LATINO VOICES      1129\n",
              "CULTURE & ARTS     1030\n",
              "EDUCATION          1004\n",
              "Name: category, dtype: int64"
            ]
          },
          "metadata": {},
          "execution_count": 9
        }
      ]
    },
    {
      "cell_type": "markdown",
      "source": [
        "## Cleaning & Preprocessing"
      ],
      "metadata": {
        "id": "PgIWPomC562t"
      }
    },
    {
      "cell_type": "markdown",
      "source": [
        "**Replace Same Category**"
      ],
      "metadata": {
        "id": "ySLWt_J0pLnq"
      }
    },
    {
      "cell_type": "code",
      "source": [
        "def category_cleaner(x):\n",
        "    if x == 'THE WORLDPOST':\n",
        "        return 'WORLDPOST'\n",
        "    elif x == 'PARENTING':\n",
        "        return 'PARENTS'\n",
        "    elif x == 'ARTS' or x == 'CULTURE & ARTS':\n",
        "        return 'ARTS & CULTURE'\n",
        "    elif x == 'STYLE':\n",
        "        return 'STYLE & BEAUTY'\n",
        "    elif x == 'COLLEGE':\n",
        "        return 'EDUCATION'\n",
        "    elif x == 'TASTE':\n",
        "        return 'FOOD & DRINK'\n",
        "    else:\n",
        "        return x\n",
        "    \n",
        "df['category'] = df.category.apply(category_cleaner)"
      ],
      "metadata": {
        "id": "5cnXNyshpByv"
      },
      "execution_count": 10,
      "outputs": []
    },
    {
      "cell_type": "code",
      "source": [
        "#check\n",
        "len(df['category'].value_counts())  "
      ],
      "metadata": {
        "colab": {
          "base_uri": "https://localhost:8080/"
        },
        "id": "Wr02XuC-qaOL",
        "outputId": "e92fb33b-0df6-4e74-a462-cc1c824c11c6"
      },
      "execution_count": 11,
      "outputs": [
        {
          "output_type": "execute_result",
          "data": {
            "text/plain": [
              "34"
            ]
          },
          "metadata": {},
          "execution_count": 11
        }
      ]
    },
    {
      "cell_type": "markdown",
      "source": [
        "**Encode Category col**"
      ],
      "metadata": {
        "id": "7CaAX0BM12L2"
      }
    },
    {
      "cell_type": "code",
      "source": [
        "df['CategoryId'] = df['category'].factorize()[0]\n",
        "df.sample(3)"
      ],
      "metadata": {
        "colab": {
          "base_uri": "https://localhost:8080/",
          "height": 292
        },
        "id": "l8WNuqmv_UqK",
        "outputId": "0fe5c73e-d137-4573-b56e-fe1102229f52"
      },
      "execution_count": 12,
      "outputs": [
        {
          "output_type": "execute_result",
          "data": {
            "text/plain": [
              "             category                                           headline  \\\n",
              "3294    ENTERTAINMENT  Steven Spielberg Says Netflix Films Shouldn't ...   \n",
              "193977         TRAVEL  Essential Road Trip Songs, As Picked By Reader...   \n",
              "53315    FOOD & DRINK  7 Ways We All Need To Use Less Plastic Wrap In...   \n",
              "\n",
              "                 authors                                               link  \\\n",
              "3294          Ron Dicker  https://www.huffingtonpost.com/entry/steven-sp...   \n",
              "193977                    https://www.huffingtonpost.com/entry/essential...   \n",
              "53315   Julie R. Thomson  https://www.huffingtonpost.com/entry/plastic-w...   \n",
              "\n",
              "                                        short_description        date  \\\n",
              "3294    \"You're a TV movie,\" the 71-year-old legend said.  2018-03-26   \n",
              "193977  We here at Huffington Post Travel love us a ro...  2012-04-11   \n",
              "53315                          Put the plastic wrap down.  2016-07-15   \n",
              "\n",
              "        CategoryId  \n",
              "3294             1  \n",
              "193977          12  \n",
              "53315           23  "
            ],
            "text/html": [
              "\n",
              "  <div id=\"df-abdcd5bc-9fa7-4e4c-aa09-d2d705654803\">\n",
              "    <div class=\"colab-df-container\">\n",
              "      <div>\n",
              "<style scoped>\n",
              "    .dataframe tbody tr th:only-of-type {\n",
              "        vertical-align: middle;\n",
              "    }\n",
              "\n",
              "    .dataframe tbody tr th {\n",
              "        vertical-align: top;\n",
              "    }\n",
              "\n",
              "    .dataframe thead th {\n",
              "        text-align: right;\n",
              "    }\n",
              "</style>\n",
              "<table border=\"1\" class=\"dataframe\">\n",
              "  <thead>\n",
              "    <tr style=\"text-align: right;\">\n",
              "      <th></th>\n",
              "      <th>category</th>\n",
              "      <th>headline</th>\n",
              "      <th>authors</th>\n",
              "      <th>link</th>\n",
              "      <th>short_description</th>\n",
              "      <th>date</th>\n",
              "      <th>CategoryId</th>\n",
              "    </tr>\n",
              "  </thead>\n",
              "  <tbody>\n",
              "    <tr>\n",
              "      <th>3294</th>\n",
              "      <td>ENTERTAINMENT</td>\n",
              "      <td>Steven Spielberg Says Netflix Films Shouldn't ...</td>\n",
              "      <td>Ron Dicker</td>\n",
              "      <td>https://www.huffingtonpost.com/entry/steven-sp...</td>\n",
              "      <td>\"You're a TV movie,\" the 71-year-old legend said.</td>\n",
              "      <td>2018-03-26</td>\n",
              "      <td>1</td>\n",
              "    </tr>\n",
              "    <tr>\n",
              "      <th>193977</th>\n",
              "      <td>TRAVEL</td>\n",
              "      <td>Essential Road Trip Songs, As Picked By Reader...</td>\n",
              "      <td></td>\n",
              "      <td>https://www.huffingtonpost.com/entry/essential...</td>\n",
              "      <td>We here at Huffington Post Travel love us a ro...</td>\n",
              "      <td>2012-04-11</td>\n",
              "      <td>12</td>\n",
              "    </tr>\n",
              "    <tr>\n",
              "      <th>53315</th>\n",
              "      <td>FOOD &amp; DRINK</td>\n",
              "      <td>7 Ways We All Need To Use Less Plastic Wrap In...</td>\n",
              "      <td>Julie R. Thomson</td>\n",
              "      <td>https://www.huffingtonpost.com/entry/plastic-w...</td>\n",
              "      <td>Put the plastic wrap down.</td>\n",
              "      <td>2016-07-15</td>\n",
              "      <td>23</td>\n",
              "    </tr>\n",
              "  </tbody>\n",
              "</table>\n",
              "</div>\n",
              "      <button class=\"colab-df-convert\" onclick=\"convertToInteractive('df-abdcd5bc-9fa7-4e4c-aa09-d2d705654803')\"\n",
              "              title=\"Convert this dataframe to an interactive table.\"\n",
              "              style=\"display:none;\">\n",
              "        \n",
              "  <svg xmlns=\"http://www.w3.org/2000/svg\" height=\"24px\"viewBox=\"0 0 24 24\"\n",
              "       width=\"24px\">\n",
              "    <path d=\"M0 0h24v24H0V0z\" fill=\"none\"/>\n",
              "    <path d=\"M18.56 5.44l.94 2.06.94-2.06 2.06-.94-2.06-.94-.94-2.06-.94 2.06-2.06.94zm-11 1L8.5 8.5l.94-2.06 2.06-.94-2.06-.94L8.5 2.5l-.94 2.06-2.06.94zm10 10l.94 2.06.94-2.06 2.06-.94-2.06-.94-.94-2.06-.94 2.06-2.06.94z\"/><path d=\"M17.41 7.96l-1.37-1.37c-.4-.4-.92-.59-1.43-.59-.52 0-1.04.2-1.43.59L10.3 9.45l-7.72 7.72c-.78.78-.78 2.05 0 2.83L4 21.41c.39.39.9.59 1.41.59.51 0 1.02-.2 1.41-.59l7.78-7.78 2.81-2.81c.8-.78.8-2.07 0-2.86zM5.41 20L4 18.59l7.72-7.72 1.47 1.35L5.41 20z\"/>\n",
              "  </svg>\n",
              "      </button>\n",
              "      \n",
              "  <style>\n",
              "    .colab-df-container {\n",
              "      display:flex;\n",
              "      flex-wrap:wrap;\n",
              "      gap: 12px;\n",
              "    }\n",
              "\n",
              "    .colab-df-convert {\n",
              "      background-color: #E8F0FE;\n",
              "      border: none;\n",
              "      border-radius: 50%;\n",
              "      cursor: pointer;\n",
              "      display: none;\n",
              "      fill: #1967D2;\n",
              "      height: 32px;\n",
              "      padding: 0 0 0 0;\n",
              "      width: 32px;\n",
              "    }\n",
              "\n",
              "    .colab-df-convert:hover {\n",
              "      background-color: #E2EBFA;\n",
              "      box-shadow: 0px 1px 2px rgba(60, 64, 67, 0.3), 0px 1px 3px 1px rgba(60, 64, 67, 0.15);\n",
              "      fill: #174EA6;\n",
              "    }\n",
              "\n",
              "    [theme=dark] .colab-df-convert {\n",
              "      background-color: #3B4455;\n",
              "      fill: #D2E3FC;\n",
              "    }\n",
              "\n",
              "    [theme=dark] .colab-df-convert:hover {\n",
              "      background-color: #434B5C;\n",
              "      box-shadow: 0px 1px 3px 1px rgba(0, 0, 0, 0.15);\n",
              "      filter: drop-shadow(0px 1px 2px rgba(0, 0, 0, 0.3));\n",
              "      fill: #FFFFFF;\n",
              "    }\n",
              "  </style>\n",
              "\n",
              "      <script>\n",
              "        const buttonEl =\n",
              "          document.querySelector('#df-abdcd5bc-9fa7-4e4c-aa09-d2d705654803 button.colab-df-convert');\n",
              "        buttonEl.style.display =\n",
              "          google.colab.kernel.accessAllowed ? 'block' : 'none';\n",
              "\n",
              "        async function convertToInteractive(key) {\n",
              "          const element = document.querySelector('#df-abdcd5bc-9fa7-4e4c-aa09-d2d705654803');\n",
              "          const dataTable =\n",
              "            await google.colab.kernel.invokeFunction('convertToInteractive',\n",
              "                                                     [key], {});\n",
              "          if (!dataTable) return;\n",
              "\n",
              "          const docLinkHtml = 'Like what you see? Visit the ' +\n",
              "            '<a target=\"_blank\" href=https://colab.research.google.com/notebooks/data_table.ipynb>data table notebook</a>'\n",
              "            + ' to learn more about interactive tables.';\n",
              "          element.innerHTML = '';\n",
              "          dataTable['output_type'] = 'display_data';\n",
              "          await google.colab.output.renderOutput(dataTable, element);\n",
              "          const docLink = document.createElement('div');\n",
              "          docLink.innerHTML = docLinkHtml;\n",
              "          element.appendChild(docLink);\n",
              "        }\n",
              "      </script>\n",
              "    </div>\n",
              "  </div>\n",
              "  "
            ]
          },
          "metadata": {},
          "execution_count": 12
        }
      ]
    },
    {
      "cell_type": "markdown",
      "source": [
        "**Combine columns**"
      ],
      "metadata": {
        "id": "6NheDwcW_qId"
      }
    },
    {
      "cell_type": "code",
      "source": [
        "#Combining Title and Description --- >\n",
        "df['content']= df['headline']+' '+df['short_description']"
      ],
      "metadata": {
        "id": "DnZk87K_I7gE"
      },
      "execution_count": 13,
      "outputs": []
    },
    {
      "cell_type": "code",
      "source": [
        "df['content'].sample(5)"
      ],
      "metadata": {
        "colab": {
          "base_uri": "https://localhost:8080/"
        },
        "id": "dAwRZhxYr30T",
        "outputId": "29d2fda0-488a-40b5-a935-32a69fa95518"
      },
      "execution_count": 14,
      "outputs": [
        {
          "output_type": "execute_result",
          "data": {
            "text/plain": [
              "57146     Texas Builds A Wildlife Highway To Help Endang...\n",
              "36146     Honey Boo Boo's Mother Is Back On Reality TV T...\n",
              "82397     Caitlyn Jenner Could Be Charged With Vehicular...\n",
              "185578    Is It Possible to Try Too Hard? We've heard it...\n",
              "121052    Back from the Valley: Sebastian Junger on Kore...\n",
              "Name: content, dtype: object"
            ]
          },
          "metadata": {},
          "execution_count": 14
        }
      ]
    },
    {
      "cell_type": "markdown",
      "source": [
        "**preprocessing applied on content column**"
      ],
      "metadata": {
        "id": "kJZpVp0GrLsY"
      }
    },
    {
      "cell_type": "code",
      "source": [
        "def preprocess(text): \n",
        "  text = text.lower() #1.lower\n",
        "  text= contractions.fix(text)  #2.contractions \n",
        "  text=  re.sub(r'[^\\w\\s]', '',  text)   #4. punc\n",
        "  return text\n",
        "\n",
        "df['content'] = df['content'].apply(lambda x: preprocess(x))     "
      ],
      "metadata": {
        "id": "cEYiIWGikHZu"
      },
      "execution_count": 15,
      "outputs": []
    },
    {
      "cell_type": "code",
      "source": [
        "#check\n",
        "df['content'].sample(5)"
      ],
      "metadata": {
        "colab": {
          "base_uri": "https://localhost:8080/"
        },
        "id": "ufk2XBTHsYnG",
        "outputId": "4f79db68-fe71-4173-9754-e7eb10a4a8c4"
      },
      "execution_count": 16,
      "outputs": [
        {
          "output_type": "execute_result",
          "data": {
            "text/plain": [
              "12027     what my mothers weight struggle taught me abou...\n",
              "113452            terri j vaughn talks girlfriends getaway \n",
              "74391     daily news compares nra to jihadists on front ...\n",
              "93402     women in business qa victoria tkacheva directo...\n",
              "84745     who is esteban oliverez new 2016 gop president...\n",
              "Name: content, dtype: object"
            ]
          },
          "metadata": {},
          "execution_count": 16
        }
      ]
    },
    {
      "cell_type": "markdown",
      "source": [
        "**check**"
      ],
      "metadata": {
        "id": "wVJAvkCws8YR"
      }
    },
    {
      "cell_type": "code",
      "source": [
        "df.sample(3)"
      ],
      "metadata": {
        "colab": {
          "base_uri": "https://localhost:8080/",
          "height": 378
        },
        "id": "1SFce_O9tAq3",
        "outputId": "004a250f-7c94-4b07-efe0-0230c0acd9f1"
      },
      "execution_count": 17,
      "outputs": [
        {
          "output_type": "execute_result",
          "data": {
            "text/plain": [
              "            category                                           headline  \\\n",
              "32700   BLACK VOICES  Apathy & Complacency: How We Got A Flamin' Hot...   \n",
              "9313        BUSINESS   ESPN President John Skipper Resigns Unexpectedly   \n",
              "171889      WELLNESS  NIH and Superbugs: Placing the Blame Where It ...   \n",
              "\n",
              "                                                  authors  \\\n",
              "32700   Kaylin Dodson, ContributorWriter, Student, You...   \n",
              "9313                                        Ryan Grenoble   \n",
              "171889  Dr. Lisa K. Fitzpatrick, MD, MPH, MPA, Contrib...   \n",
              "\n",
              "                                                     link  \\\n",
              "32700   https://www.huffingtonpost.com/entry/apathy-co...   \n",
              "9313    https://www.huffingtonpost.com/entry/john-skip...   \n",
              "171889  https://www.huffingtonpost.com/entry/superbugs...   \n",
              "\n",
              "                                        short_description        date  \\\n",
              "32700   In our complacency, we had no fear of a puffed...  2017-03-05   \n",
              "9313    Skipper cited substance addiction in a statement.  2017-12-18   \n",
              "171889  The emergence of multi-drug-resistant bacteria...  2012-12-05   \n",
              "\n",
              "        CategoryId                                            content  \n",
              "32700            6  apathy  complacency how we got a flamin hot ch...  \n",
              "9313            11  espn president john skipper resigns unexpected...  \n",
              "171889          28  nih and superbugs placing the blame where it b...  "
            ],
            "text/html": [
              "\n",
              "  <div id=\"df-016d9694-3663-4f83-9fa6-818ad128d202\">\n",
              "    <div class=\"colab-df-container\">\n",
              "      <div>\n",
              "<style scoped>\n",
              "    .dataframe tbody tr th:only-of-type {\n",
              "        vertical-align: middle;\n",
              "    }\n",
              "\n",
              "    .dataframe tbody tr th {\n",
              "        vertical-align: top;\n",
              "    }\n",
              "\n",
              "    .dataframe thead th {\n",
              "        text-align: right;\n",
              "    }\n",
              "</style>\n",
              "<table border=\"1\" class=\"dataframe\">\n",
              "  <thead>\n",
              "    <tr style=\"text-align: right;\">\n",
              "      <th></th>\n",
              "      <th>category</th>\n",
              "      <th>headline</th>\n",
              "      <th>authors</th>\n",
              "      <th>link</th>\n",
              "      <th>short_description</th>\n",
              "      <th>date</th>\n",
              "      <th>CategoryId</th>\n",
              "      <th>content</th>\n",
              "    </tr>\n",
              "  </thead>\n",
              "  <tbody>\n",
              "    <tr>\n",
              "      <th>32700</th>\n",
              "      <td>BLACK VOICES</td>\n",
              "      <td>Apathy &amp; Complacency: How We Got A Flamin' Hot...</td>\n",
              "      <td>Kaylin Dodson, ContributorWriter, Student, You...</td>\n",
              "      <td>https://www.huffingtonpost.com/entry/apathy-co...</td>\n",
              "      <td>In our complacency, we had no fear of a puffed...</td>\n",
              "      <td>2017-03-05</td>\n",
              "      <td>6</td>\n",
              "      <td>apathy  complacency how we got a flamin hot ch...</td>\n",
              "    </tr>\n",
              "    <tr>\n",
              "      <th>9313</th>\n",
              "      <td>BUSINESS</td>\n",
              "      <td>ESPN President John Skipper Resigns Unexpectedly</td>\n",
              "      <td>Ryan Grenoble</td>\n",
              "      <td>https://www.huffingtonpost.com/entry/john-skip...</td>\n",
              "      <td>Skipper cited substance addiction in a statement.</td>\n",
              "      <td>2017-12-18</td>\n",
              "      <td>11</td>\n",
              "      <td>espn president john skipper resigns unexpected...</td>\n",
              "    </tr>\n",
              "    <tr>\n",
              "      <th>171889</th>\n",
              "      <td>WELLNESS</td>\n",
              "      <td>NIH and Superbugs: Placing the Blame Where It ...</td>\n",
              "      <td>Dr. Lisa K. Fitzpatrick, MD, MPH, MPA, Contrib...</td>\n",
              "      <td>https://www.huffingtonpost.com/entry/superbugs...</td>\n",
              "      <td>The emergence of multi-drug-resistant bacteria...</td>\n",
              "      <td>2012-12-05</td>\n",
              "      <td>28</td>\n",
              "      <td>nih and superbugs placing the blame where it b...</td>\n",
              "    </tr>\n",
              "  </tbody>\n",
              "</table>\n",
              "</div>\n",
              "      <button class=\"colab-df-convert\" onclick=\"convertToInteractive('df-016d9694-3663-4f83-9fa6-818ad128d202')\"\n",
              "              title=\"Convert this dataframe to an interactive table.\"\n",
              "              style=\"display:none;\">\n",
              "        \n",
              "  <svg xmlns=\"http://www.w3.org/2000/svg\" height=\"24px\"viewBox=\"0 0 24 24\"\n",
              "       width=\"24px\">\n",
              "    <path d=\"M0 0h24v24H0V0z\" fill=\"none\"/>\n",
              "    <path d=\"M18.56 5.44l.94 2.06.94-2.06 2.06-.94-2.06-.94-.94-2.06-.94 2.06-2.06.94zm-11 1L8.5 8.5l.94-2.06 2.06-.94-2.06-.94L8.5 2.5l-.94 2.06-2.06.94zm10 10l.94 2.06.94-2.06 2.06-.94-2.06-.94-.94-2.06-.94 2.06-2.06.94z\"/><path d=\"M17.41 7.96l-1.37-1.37c-.4-.4-.92-.59-1.43-.59-.52 0-1.04.2-1.43.59L10.3 9.45l-7.72 7.72c-.78.78-.78 2.05 0 2.83L4 21.41c.39.39.9.59 1.41.59.51 0 1.02-.2 1.41-.59l7.78-7.78 2.81-2.81c.8-.78.8-2.07 0-2.86zM5.41 20L4 18.59l7.72-7.72 1.47 1.35L5.41 20z\"/>\n",
              "  </svg>\n",
              "      </button>\n",
              "      \n",
              "  <style>\n",
              "    .colab-df-container {\n",
              "      display:flex;\n",
              "      flex-wrap:wrap;\n",
              "      gap: 12px;\n",
              "    }\n",
              "\n",
              "    .colab-df-convert {\n",
              "      background-color: #E8F0FE;\n",
              "      border: none;\n",
              "      border-radius: 50%;\n",
              "      cursor: pointer;\n",
              "      display: none;\n",
              "      fill: #1967D2;\n",
              "      height: 32px;\n",
              "      padding: 0 0 0 0;\n",
              "      width: 32px;\n",
              "    }\n",
              "\n",
              "    .colab-df-convert:hover {\n",
              "      background-color: #E2EBFA;\n",
              "      box-shadow: 0px 1px 2px rgba(60, 64, 67, 0.3), 0px 1px 3px 1px rgba(60, 64, 67, 0.15);\n",
              "      fill: #174EA6;\n",
              "    }\n",
              "\n",
              "    [theme=dark] .colab-df-convert {\n",
              "      background-color: #3B4455;\n",
              "      fill: #D2E3FC;\n",
              "    }\n",
              "\n",
              "    [theme=dark] .colab-df-convert:hover {\n",
              "      background-color: #434B5C;\n",
              "      box-shadow: 0px 1px 3px 1px rgba(0, 0, 0, 0.15);\n",
              "      filter: drop-shadow(0px 1px 2px rgba(0, 0, 0, 0.3));\n",
              "      fill: #FFFFFF;\n",
              "    }\n",
              "  </style>\n",
              "\n",
              "      <script>\n",
              "        const buttonEl =\n",
              "          document.querySelector('#df-016d9694-3663-4f83-9fa6-818ad128d202 button.colab-df-convert');\n",
              "        buttonEl.style.display =\n",
              "          google.colab.kernel.accessAllowed ? 'block' : 'none';\n",
              "\n",
              "        async function convertToInteractive(key) {\n",
              "          const element = document.querySelector('#df-016d9694-3663-4f83-9fa6-818ad128d202');\n",
              "          const dataTable =\n",
              "            await google.colab.kernel.invokeFunction('convertToInteractive',\n",
              "                                                     [key], {});\n",
              "          if (!dataTable) return;\n",
              "\n",
              "          const docLinkHtml = 'Like what you see? Visit the ' +\n",
              "            '<a target=\"_blank\" href=https://colab.research.google.com/notebooks/data_table.ipynb>data table notebook</a>'\n",
              "            + ' to learn more about interactive tables.';\n",
              "          element.innerHTML = '';\n",
              "          dataTable['output_type'] = 'display_data';\n",
              "          await google.colab.output.renderOutput(dataTable, element);\n",
              "          const docLink = document.createElement('div');\n",
              "          docLink.innerHTML = docLinkHtml;\n",
              "          element.appendChild(docLink);\n",
              "        }\n",
              "      </script>\n",
              "    </div>\n",
              "  </div>\n",
              "  "
            ]
          },
          "metadata": {},
          "execution_count": 17
        }
      ]
    },
    {
      "cell_type": "markdown",
      "source": [
        "**TF-IDF**"
      ],
      "metadata": {
        "id": "5zVeorj4CbzF"
      }
    },
    {
      "cell_type": "code",
      "source": [
        "vec = TfidfVectorizer(analyzer='char_wb', ngram_range=(3, 5), min_df=.01, max_df=.3)\n",
        "X = vec.fit_transform(df['content'])\n",
        "X_train, X_test, y_train, y_test = train_test_split(X, df['CategoryId'], train_size= 0.8, random_state=42, shuffle= True)"
      ],
      "metadata": {
        "id": "b9UdOgtqEcUS"
      },
      "execution_count": 33,
      "outputs": []
    },
    {
      "cell_type": "markdown",
      "source": [
        "## Modelling"
      ],
      "metadata": {
        "id": "f0IL7Mto5_V9"
      }
    },
    {
      "cell_type": "markdown",
      "source": [
        "\n",
        "\n",
        "*   **Logistic Regression**\n",
        "\n"
      ],
      "metadata": {
        "id": "BGB7lnWYzkLt"
      }
    },
    {
      "cell_type": "code",
      "source": [
        "lr = LogisticRegression(solver='saga',multi_class='multinomial', max_iter=50, C=1,random_state=42)\n",
        "lr.fit(X_train, y_train)\n",
        "y_predict = lr.predict(X_test)"
      ],
      "metadata": {
        "id": "dX-nUtL2iOvg"
      },
      "execution_count": 37,
      "outputs": []
    },
    {
      "cell_type": "code",
      "source": [
        "print(\"Accuracy %.3f\" %metrics.accuracy_score(y_test, y_predict))"
      ],
      "metadata": {
        "colab": {
          "base_uri": "https://localhost:8080/"
        },
        "id": "rQkQ7aPhzDWn",
        "outputId": "e6513fd3-c8e5-4839-b9a8-476ef975c23a"
      },
      "execution_count": 67,
      "outputs": [
        {
          "output_type": "stream",
          "name": "stdout",
          "text": [
            "Accuracy 0.569\n"
          ]
        }
      ]
    },
    {
      "cell_type": "markdown",
      "source": [
        "## Enhancement"
      ],
      "metadata": {
        "id": "t4d6zDy96BhF"
      }
    },
    {
      "cell_type": "markdown",
      "source": [
        "**Tokenizer**"
      ],
      "metadata": {
        "id": "ol0RZqgx9Fnm"
      }
    },
    {
      "cell_type": "code",
      "source": [
        "MAX_NB_WORDS = 50000\n",
        "MAX_SEQUENCE_LENGTH = 250\n",
        "EMBEDDING_DIM = 100\n",
        "tokenizer = tf.keras.preprocessing.text.Tokenizer(num_words=MAX_NB_WORDS, lower=True)\n",
        "tokenizer.fit_on_texts(df['content'].values)\n",
        "word_index = tokenizer.word_index\n",
        "vocab_size = len(tokenizer.word_index) + 1\n",
        "print('Found %s unique tokens.' % len(word_index))"
      ],
      "metadata": {
        "colab": {
          "base_uri": "https://localhost:8080/"
        },
        "id": "y7i8vgRf9LAR",
        "outputId": "a39dcaa9-3387-47ec-a790-b99be7142e96"
      },
      "execution_count": 42,
      "outputs": [
        {
          "output_type": "stream",
          "name": "stdout",
          "text": [
            "Found 114554 unique tokens.\n"
          ]
        }
      ]
    },
    {
      "cell_type": "code",
      "source": [
        "X = tokenizer.texts_to_sequences(df['content'].values)\n",
        "X = pad_sequences(X, maxlen=MAX_SEQUENCE_LENGTH)\n",
        "print('Shape of data tensor:', X.shape)"
      ],
      "metadata": {
        "colab": {
          "base_uri": "https://localhost:8080/"
        },
        "id": "lEITreinKBUd",
        "outputId": "26039f9a-eb73-4b28-90b5-29856eccd571"
      },
      "execution_count": 44,
      "outputs": [
        {
          "output_type": "stream",
          "name": "stdout",
          "text": [
            "Shape of data tensor: (200840, 250)\n"
          ]
        }
      ]
    },
    {
      "cell_type": "code",
      "source": [
        "Y = df['CategoryId'].values\n",
        "print('Shape of label tensor:', Y.shape)"
      ],
      "metadata": {
        "colab": {
          "base_uri": "https://localhost:8080/"
        },
        "id": "8A-y2KGbKdvz",
        "outputId": "5517f5cc-9830-4232-d436-0ef0e173caeb"
      },
      "execution_count": 45,
      "outputs": [
        {
          "output_type": "stream",
          "name": "stdout",
          "text": [
            "Shape of label tensor: (200840,)\n"
          ]
        }
      ]
    },
    {
      "cell_type": "code",
      "source": [
        "X_train, X_test, y_train, y_test = train_test_split(X,Y, test_size = 0.20, random_state = 42)\n",
        "print(X_train.shape,y_train.shape)\n",
        "print(X_test.shape,y_test.shape)"
      ],
      "metadata": {
        "colab": {
          "base_uri": "https://localhost:8080/"
        },
        "id": "PWWZbBb9KhiR",
        "outputId": "687bc4b7-5a70-4c90-9adf-52a519359798"
      },
      "execution_count": 46,
      "outputs": [
        {
          "output_type": "stream",
          "name": "stdout",
          "text": [
            "(160672, 250) (160672,)\n",
            "(40168, 250) (40168,)\n"
          ]
        }
      ]
    },
    {
      "cell_type": "markdown",
      "source": [
        "* **LSTM**"
      ],
      "metadata": {
        "id": "unr5aGqdUs65"
      }
    },
    {
      "cell_type": "code",
      "source": [
        "model = tf.keras.models.Sequential()\n",
        "model.add(layers.Embedding(vocab_size, 128, mask_zero=True))\n",
        "model.add(SpatialDropout1D(0.2))\n",
        "model.add(LSTM(100, dropout=0.2, recurrent_dropout=0.2))\n",
        "model.add(Dense(34, activation='softmax'))"
      ],
      "metadata": {
        "colab": {
          "base_uri": "https://localhost:8080/"
        },
        "id": "_jVaRk8uKzF7",
        "outputId": "993ce6d8-56cf-471f-c80b-dc6215434e53"
      },
      "execution_count": 61,
      "outputs": [
        {
          "output_type": "stream",
          "name": "stdout",
          "text": [
            "WARNING:tensorflow:Layer lstm_3 will not use cuDNN kernels since it doesn't meet the criteria. It will use a generic GPU kernel as fallback when running on GPU.\n"
          ]
        },
        {
          "output_type": "stream",
          "name": "stderr",
          "text": [
            "WARNING:tensorflow:Layer lstm_3 will not use cuDNN kernels since it doesn't meet the criteria. It will use a generic GPU kernel as fallback when running on GPU.\n"
          ]
        }
      ]
    },
    {
      "cell_type": "code",
      "source": [
        "model.compile(optimizer=optimizers.Adam(learning_rate=0.01),\n",
        "              loss='SparseCategoricalCrossentropy',\n",
        "              metrics=['accuracy'])\n",
        "\n",
        "history = model.fit(X_train, y_train, epochs=2, batch_size=512,validation_split=0.2,callbacks=[tf.keras.callbacks.EarlyStopping(monitor='val_loss', patience=3, min_delta=0.0001)])\n"
      ],
      "metadata": {
        "colab": {
          "base_uri": "https://localhost:8080/"
        },
        "id": "WAs7WiBhK6o8",
        "outputId": "c7b71c1a-7457-40e7-dd6b-b32b68a29bd1"
      },
      "execution_count": 62,
      "outputs": [
        {
          "output_type": "stream",
          "name": "stdout",
          "text": [
            "Epoch 1/2\n",
            "252/252 [==============================] - 302s 1s/step - loss: 1.9226 - accuracy: 0.4900 - val_loss: 1.3563 - val_accuracy: 0.6314\n",
            "Epoch 2/2\n",
            "252/252 [==============================] - 306s 1s/step - loss: 1.1020 - accuracy: 0.6904 - val_loss: 1.2612 - val_accuracy: 0.6559\n"
          ]
        }
      ]
    },
    {
      "cell_type": "markdown",
      "source": [
        "## Final Results and Conclusion"
      ],
      "metadata": {
        "id": "20Av1Qnr6Exd"
      }
    },
    {
      "cell_type": "markdown",
      "source": [
        "* **Logistic Regression Result**"
      ],
      "metadata": {
        "id": "bNo_lTrNWSOw"
      }
    },
    {
      "cell_type": "code",
      "source": [
        "print(classification_report(y_test,y_predict ))"
      ],
      "metadata": {
        "colab": {
          "base_uri": "https://localhost:8080/"
        },
        "id": "q1WwGrXLWPQo",
        "outputId": "72845586-78a4-4801-ff14-074198dd3cc0"
      },
      "execution_count": 68,
      "outputs": [
        {
          "output_type": "stream",
          "name": "stdout",
          "text": [
            "              precision    recall  f1-score   support\n",
            "\n",
            "           0       0.51      0.46      0.49       683\n",
            "           1       0.48      0.68      0.56      3117\n",
            "           2       0.44      0.11      0.18       427\n",
            "           3       0.33      0.17      0.23       716\n",
            "           4       0.62      0.81      0.70      6533\n",
            "           5       0.33      0.16      0.21       534\n",
            "           6       0.46      0.28      0.35       860\n",
            "           7       0.42      0.26      0.32       744\n",
            "           8       0.51      0.29      0.37      1070\n",
            "           9       0.68      0.55      0.60      1284\n",
            "          10       0.58      0.51      0.54       980\n",
            "          11       0.45      0.36      0.40      1198\n",
            "          12       0.63      0.69      0.66      1971\n",
            "          13       0.50      0.27      0.35       552\n",
            "          14       0.53      0.32      0.40       440\n",
            "          15       0.57      0.36      0.44       519\n",
            "          16       0.61      0.34      0.43       466\n",
            "          17       0.65      0.18      0.28       206\n",
            "          18       0.48      0.35      0.40       430\n",
            "          19       0.58      0.69      0.63      2535\n",
            "          20       0.50      0.36      0.42       796\n",
            "          21       0.70      0.72      0.71      2414\n",
            "          22       0.39      0.20      0.26       539\n",
            "          23       0.65      0.72      0.68      1630\n",
            "          24       0.39      0.22      0.28      1298\n",
            "          25       0.48      0.48      0.48      1216\n",
            "          26       0.37      0.12      0.18       275\n",
            "          27       0.66      0.13      0.22       286\n",
            "          28       0.52      0.76      0.61      3595\n",
            "          29       0.71      0.64      0.67       822\n",
            "          30       0.80      0.62      0.70       683\n",
            "          31       0.78      0.71      0.74       728\n",
            "          32       0.49      0.25      0.33       349\n",
            "          33       0.77      0.16      0.27       272\n",
            "\n",
            "    accuracy                           0.57     40168\n",
            "   macro avg       0.55      0.41      0.44     40168\n",
            "weighted avg       0.56      0.57      0.55     40168\n",
            "\n"
          ]
        }
      ]
    },
    {
      "cell_type": "markdown",
      "source": [
        "* **LSTM Result**"
      ],
      "metadata": {
        "id": "cfKaaOsdWa7U"
      }
    },
    {
      "cell_type": "code",
      "source": [
        "from matplotlib import pyplot as plt\n",
        "plt.plot(history.history['accuracy'],'r-o')\n",
        "plt.plot(history.history['val_accuracy'],'k--o')\n",
        "plt.title('model accuracy')\n",
        "plt.ylabel('accuracy')\n",
        "plt.xlabel('epoch')\n",
        "plt.legend(['train', 'val'], loc='upper left')\n",
        "plt.show()"
      ],
      "metadata": {
        "id": "1yFOIlYX6EZd",
        "colab": {
          "base_uri": "https://localhost:8080/",
          "height": 295
        },
        "outputId": "0d3e53e6-344b-4b3d-892b-f60c7f3c3af6"
      },
      "execution_count": 65,
      "outputs": [
        {
          "output_type": "display_data",
          "data": {
            "text/plain": [
              "<Figure size 432x288 with 1 Axes>"
            ],
            "image/png": "[encoded data removed]"
          },
          "metadata": {
            "needs_background": "light"
          }
        }
      ]
    },
    {
      "cell_type": "code",
      "source": [
        "from matplotlib import pyplot as plt\n",
        "plt.plot(history.history['loss'],'r-o')\n",
        "plt.plot(history.history['val_loss'],'k--o')\n",
        "plt.title('model accuracy')\n",
        "plt.ylabel('loss')\n",
        "plt.xlabel('epoch')\n",
        "plt.legend(['train', 'val'], loc='upper left')\n",
        "plt.show()"
      ],
      "metadata": {
        "colab": {
          "base_uri": "https://localhost:8080/",
          "height": 295
        },
        "id": "FLCulTCcVQnZ",
        "outputId": "a78755b1-9545-4b20-bad7-fa226c9bc411"
      },
      "execution_count": 66,
      "outputs": [
        {
          "output_type": "display_data",
          "data": {
            "text/plain": [
              "<Figure size 432x288 with 1 Axes>"
            ],
            "image/png": "[encoded data removed]"
          },
          "metadata": {
            "needs_background": "light"
          }
        }
      ]
    },
    {
      "cell_type": "markdown",
      "source": [
        "## Best Wishes\n",
        "\n",
        "\n",
        "## Again: Delivery through this [form](https://forms.gle/PshJQw2bTa48Ligz7)"
      ],
      "metadata": {
        "id": "n6bbwZcA6Kcy"
      }
    }
  ],
  "metadata": {
    "kernelspec": {
      "display_name": "Python 3",
      "language": "python",
      "name": "python3"
    },
    "language_info": {
      "codemirror_mode": {
        "name": "ipython",
        "version": 3
      },
      "file_extension": ".py",
      "mimetype": "text/x-python",
      "name": "python",
      "nbconvert_exporter": "python",
      "pygments_lexer": "ipython3",
      "version": "3.8.5"
    },
    "colab": {
      "name": "Yassmina Abdo NLP Final Task.ipynb",
      "provenance": [],
      "collapsed_sections": [],
      "include_colab_link": true
    },
    "accelerator": "GPU",
    "gpuClass": "standard"
  },
  "nbformat": 4,
  "nbformat_minor": 0
}